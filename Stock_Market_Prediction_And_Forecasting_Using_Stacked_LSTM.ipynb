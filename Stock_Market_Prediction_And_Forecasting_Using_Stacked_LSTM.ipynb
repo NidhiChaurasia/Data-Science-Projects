{
  "nbformat": 4,
  "nbformat_minor": 0,
  "metadata": {
    "colab": {
      "name": "Stock Market Prediction And Forecasting Using Stacked LSTM.ipynb",
      "provenance": [],
      "authorship_tag": "ABX9TyPYdKjYi8+x3YSVJPYt5l26",
      "include_colab_link": true
    },
    "kernelspec": {
      "name": "python3",
      "display_name": "Python 3"
    },
    "language_info": {
      "name": "python"
    }
  },
  "cells": [
    {
      "cell_type": "markdown",
      "metadata": {
        "id": "view-in-github",
        "colab_type": "text"
      },
      "source": [
        "<a href=\"https://colab.research.google.com/github/NidhiChaurasia/LGMVIP-DataScience/blob/main/Stock_Market_Prediction_And_Forecasting_Using_Stacked_LSTM.ipynb\" target=\"_parent\"><img src=\"https://colab.research.google.com/assets/colab-badge.svg\" alt=\"Open In Colab\"/></a>"
      ]
    },
    {
      "cell_type": "markdown",
      "metadata": {
        "id": "9T-8VlGfD33g"
      },
      "source": [
        "## Stock Market Prediction And Forecasting Using Stacked LSTM\n",
        "\n",
        "--> We will collect the Stock Data-- NSE-TATAGLOBAL\n",
        "\n",
        "--> Preprocess the Data- Train and Test\n",
        "\n",
        "--> Create An Stacked LSTM model\n",
        "\n",
        "--> Predict the test data and plot the output\n"
      ]
    },
    {
      "cell_type": "code",
      "metadata": {
        "id": "g6O7S7HC2lQh"
      },
      "source": [
        "import pandas as pan\n",
        "import pandas_datareader as pdr"
      ],
      "execution_count": 23,
      "outputs": []
    },
    {
      "cell_type": "code",
      "metadata": {
        "colab": {
          "resources": {
            "http://localhost:8080/nbextensions/google.colab/files.js": {
              "data": "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",
              "ok": true,
              "headers": [
                [
                  "content-type",
                  "application/javascript"
                ]
              ],
              "status": 200,
              "status_text": ""
            }
          },
          "base_uri": "https://localhost:8080/",
          "height": 73
        },
        "id": "N_iox6Lg3HYu",
        "outputId": "e8250375-bd95-419b-f415-7809aa16a87e"
      },
      "source": [
        "#Load the data\n",
        "from google.colab import files\n",
        "uploaded = files.upload()"
      ],
      "execution_count": 17,
      "outputs": [
        {
          "output_type": "display_data",
          "data": {
            "text/html": [
              "\n",
              "     <input type=\"file\" id=\"files-86f3ad21-afd0-47f3-8687-311e1a0b73dd\" name=\"files[]\" multiple disabled\n",
              "        style=\"border:none\" />\n",
              "     <output id=\"result-86f3ad21-afd0-47f3-8687-311e1a0b73dd\">\n",
              "      Upload widget is only available when the cell has been executed in the\n",
              "      current browser session. Please rerun this cell to enable.\n",
              "      </output>\n",
              "      <script src=\"/nbextensions/google.colab/files.js\"></script> "
            ],
            "text/plain": [
              "<IPython.core.display.HTML object>"
            ]
          },
          "metadata": {}
        },
        {
          "output_type": "stream",
          "text": [
            "Saving NSE-TATAGLOBAL.csv to NSE-TATAGLOBAL (1).csv\n"
          ],
          "name": "stdout"
        }
      ]
    },
    {
      "cell_type": "code",
      "metadata": {
        "colab": {
          "base_uri": "https://localhost:8080/",
          "height": 205
        },
        "id": "szCQWuhV5NKr",
        "outputId": "152da4fb-3792-443c-8613-1bab0fa9925f"
      },
      "source": [
        "#Store the data into a data frame\n",
        "dataframe = pan.read_csv('NSE-TATAGLOBAL (1).csv')\n",
        "dataframe.head(5)"
      ],
      "execution_count": 24,
      "outputs": [
        {
          "output_type": "execute_result",
          "data": {
            "text/html": [
              "<div>\n",
              "<style scoped>\n",
              "    .dataframe tbody tr th:only-of-type {\n",
              "        vertical-align: middle;\n",
              "    }\n",
              "\n",
              "    .dataframe tbody tr th {\n",
              "        vertical-align: top;\n",
              "    }\n",
              "\n",
              "    .dataframe thead th {\n",
              "        text-align: right;\n",
              "    }\n",
              "</style>\n",
              "<table border=\"1\" class=\"dataframe\">\n",
              "  <thead>\n",
              "    <tr style=\"text-align: right;\">\n",
              "      <th></th>\n",
              "      <th>Date</th>\n",
              "      <th>Open</th>\n",
              "      <th>High</th>\n",
              "      <th>Low</th>\n",
              "      <th>Last</th>\n",
              "      <th>Close</th>\n",
              "      <th>Total Trade Quantity</th>\n",
              "      <th>Turnover (Lacs)</th>\n",
              "    </tr>\n",
              "  </thead>\n",
              "  <tbody>\n",
              "    <tr>\n",
              "      <th>0</th>\n",
              "      <td>2018-09-28</td>\n",
              "      <td>234.05</td>\n",
              "      <td>235.95</td>\n",
              "      <td>230.20</td>\n",
              "      <td>233.50</td>\n",
              "      <td>233.75</td>\n",
              "      <td>3069914</td>\n",
              "      <td>7162.35</td>\n",
              "    </tr>\n",
              "    <tr>\n",
              "      <th>1</th>\n",
              "      <td>2018-09-27</td>\n",
              "      <td>234.55</td>\n",
              "      <td>236.80</td>\n",
              "      <td>231.10</td>\n",
              "      <td>233.80</td>\n",
              "      <td>233.25</td>\n",
              "      <td>5082859</td>\n",
              "      <td>11859.95</td>\n",
              "    </tr>\n",
              "    <tr>\n",
              "      <th>2</th>\n",
              "      <td>2018-09-26</td>\n",
              "      <td>240.00</td>\n",
              "      <td>240.00</td>\n",
              "      <td>232.50</td>\n",
              "      <td>235.00</td>\n",
              "      <td>234.25</td>\n",
              "      <td>2240909</td>\n",
              "      <td>5248.60</td>\n",
              "    </tr>\n",
              "    <tr>\n",
              "      <th>3</th>\n",
              "      <td>2018-09-25</td>\n",
              "      <td>233.30</td>\n",
              "      <td>236.75</td>\n",
              "      <td>232.00</td>\n",
              "      <td>236.25</td>\n",
              "      <td>236.10</td>\n",
              "      <td>2349368</td>\n",
              "      <td>5503.90</td>\n",
              "    </tr>\n",
              "    <tr>\n",
              "      <th>4</th>\n",
              "      <td>2018-09-24</td>\n",
              "      <td>233.55</td>\n",
              "      <td>239.20</td>\n",
              "      <td>230.75</td>\n",
              "      <td>234.00</td>\n",
              "      <td>233.30</td>\n",
              "      <td>3423509</td>\n",
              "      <td>7999.55</td>\n",
              "    </tr>\n",
              "  </tbody>\n",
              "</table>\n",
              "</div>"
            ],
            "text/plain": [
              "         Date    Open    High  ...   Close  Total Trade Quantity  Turnover (Lacs)\n",
              "0  2018-09-28  234.05  235.95  ...  233.75               3069914          7162.35\n",
              "1  2018-09-27  234.55  236.80  ...  233.25               5082859         11859.95\n",
              "2  2018-09-26  240.00  240.00  ...  234.25               2240909          5248.60\n",
              "3  2018-09-25  233.30  236.75  ...  236.10               2349368          5503.90\n",
              "4  2018-09-24  233.55  239.20  ...  233.30               3423509          7999.55\n",
              "\n",
              "[5 rows x 8 columns]"
            ]
          },
          "metadata": {},
          "execution_count": 24
        }
      ]
    },
    {
      "cell_type": "code",
      "metadata": {
        "colab": {
          "base_uri": "https://localhost:8080/",
          "height": 205
        },
        "id": "q6ve2AIn6sZk",
        "outputId": "9b5b7a68-b693-406d-ffdc-42c9c172e80a"
      },
      "source": [
        "dataframe.head()"
      ],
      "execution_count": 28,
      "outputs": [
        {
          "output_type": "execute_result",
          "data": {
            "text/html": [
              "<div>\n",
              "<style scoped>\n",
              "    .dataframe tbody tr th:only-of-type {\n",
              "        vertical-align: middle;\n",
              "    }\n",
              "\n",
              "    .dataframe tbody tr th {\n",
              "        vertical-align: top;\n",
              "    }\n",
              "\n",
              "    .dataframe thead th {\n",
              "        text-align: right;\n",
              "    }\n",
              "</style>\n",
              "<table border=\"1\" class=\"dataframe\">\n",
              "  <thead>\n",
              "    <tr style=\"text-align: right;\">\n",
              "      <th></th>\n",
              "      <th>Date</th>\n",
              "      <th>Open</th>\n",
              "      <th>High</th>\n",
              "      <th>Low</th>\n",
              "      <th>Last</th>\n",
              "      <th>Close</th>\n",
              "      <th>Total Trade Quantity</th>\n",
              "      <th>Turnover (Lacs)</th>\n",
              "    </tr>\n",
              "  </thead>\n",
              "  <tbody>\n",
              "    <tr>\n",
              "      <th>0</th>\n",
              "      <td>2018-09-28</td>\n",
              "      <td>234.05</td>\n",
              "      <td>235.95</td>\n",
              "      <td>230.20</td>\n",
              "      <td>233.50</td>\n",
              "      <td>233.75</td>\n",
              "      <td>3069914</td>\n",
              "      <td>7162.35</td>\n",
              "    </tr>\n",
              "    <tr>\n",
              "      <th>1</th>\n",
              "      <td>2018-09-27</td>\n",
              "      <td>234.55</td>\n",
              "      <td>236.80</td>\n",
              "      <td>231.10</td>\n",
              "      <td>233.80</td>\n",
              "      <td>233.25</td>\n",
              "      <td>5082859</td>\n",
              "      <td>11859.95</td>\n",
              "    </tr>\n",
              "    <tr>\n",
              "      <th>2</th>\n",
              "      <td>2018-09-26</td>\n",
              "      <td>240.00</td>\n",
              "      <td>240.00</td>\n",
              "      <td>232.50</td>\n",
              "      <td>235.00</td>\n",
              "      <td>234.25</td>\n",
              "      <td>2240909</td>\n",
              "      <td>5248.60</td>\n",
              "    </tr>\n",
              "    <tr>\n",
              "      <th>3</th>\n",
              "      <td>2018-09-25</td>\n",
              "      <td>233.30</td>\n",
              "      <td>236.75</td>\n",
              "      <td>232.00</td>\n",
              "      <td>236.25</td>\n",
              "      <td>236.10</td>\n",
              "      <td>2349368</td>\n",
              "      <td>5503.90</td>\n",
              "    </tr>\n",
              "    <tr>\n",
              "      <th>4</th>\n",
              "      <td>2018-09-24</td>\n",
              "      <td>233.55</td>\n",
              "      <td>239.20</td>\n",
              "      <td>230.75</td>\n",
              "      <td>234.00</td>\n",
              "      <td>233.30</td>\n",
              "      <td>3423509</td>\n",
              "      <td>7999.55</td>\n",
              "    </tr>\n",
              "  </tbody>\n",
              "</table>\n",
              "</div>"
            ],
            "text/plain": [
              "         Date    Open    High  ...   Close  Total Trade Quantity  Turnover (Lacs)\n",
              "0  2018-09-28  234.05  235.95  ...  233.75               3069914          7162.35\n",
              "1  2018-09-27  234.55  236.80  ...  233.25               5082859         11859.95\n",
              "2  2018-09-26  240.00  240.00  ...  234.25               2240909          5248.60\n",
              "3  2018-09-25  233.30  236.75  ...  236.10               2349368          5503.90\n",
              "4  2018-09-24  233.55  239.20  ...  233.30               3423509          7999.55\n",
              "\n",
              "[5 rows x 8 columns]"
            ]
          },
          "metadata": {},
          "execution_count": 28
        }
      ]
    },
    {
      "cell_type": "code",
      "metadata": {
        "id": "Rd-qMsUW6yOY"
      },
      "source": [
        "df1 = dataframe.reset_index()['Close']"
      ],
      "execution_count": 29,
      "outputs": []
    },
    {
      "cell_type": "code",
      "metadata": {
        "colab": {
          "base_uri": "https://localhost:8080/"
        },
        "id": "pWWiQ3SQ7A1T",
        "outputId": "5ed13310-8a70-4882-9d9e-d8cbc06030d2"
      },
      "source": [
        "df1"
      ],
      "execution_count": 30,
      "outputs": [
        {
          "output_type": "execute_result",
          "data": {
            "text/plain": [
              "0       233.75\n",
              "1       233.25\n",
              "2       234.25\n",
              "3       236.10\n",
              "4       233.30\n",
              "         ...  \n",
              "2030    118.65\n",
              "2031    117.60\n",
              "2032    120.65\n",
              "2033    120.90\n",
              "2034    121.55\n",
              "Name: Close, Length: 2035, dtype: float64"
            ]
          },
          "metadata": {},
          "execution_count": 30
        }
      ]
    },
    {
      "cell_type": "code",
      "metadata": {
        "colab": {
          "base_uri": "https://localhost:8080/",
          "height": 283
        },
        "id": "9t2DH7Jg7IiY",
        "outputId": "9313d5dd-b6fd-4dc7-8dd6-14fd614182d5"
      },
      "source": [
        "import matplotlib.pyplot as plt\n",
        "plt.plot(df1)"
      ],
      "execution_count": 31,
      "outputs": [
        {
          "output_type": "execute_result",
          "data": {
            "text/plain": [
              "[<matplotlib.lines.Line2D at 0x7f9e93539410>]"
            ]
          },
          "metadata": {},
          "execution_count": 31
        },
        {
          "output_type": "display_data",
          "data": {
            "image/png": "[encoded data removed]",
            "text/plain": [
              "<Figure size 432x288 with 1 Axes>"
            ]
          },
          "metadata": {
            "needs_background": "light"
          }
        }
      ]
    },
    {
      "cell_type": "code",
      "metadata": {
        "id": "FcAvLr7X7Oxc"
      },
      "source": [
        "import numpy as np"
      ],
      "execution_count": 32,
      "outputs": []
    },
    {
      "cell_type": "code",
      "metadata": {
        "id": "U1UL-ACP7YSi"
      },
      "source": [
        "from sklearn.preprocessing import MinMaxScaler\n",
        "scaler=MinMaxScaler(feature_range=(0,1))\n",
        "df1=scaler.fit_transform(np.array(df1).reshape(-1,1))"
      ],
      "execution_count": 33,
      "outputs": []
    },
    {
      "cell_type": "code",
      "metadata": {
        "colab": {
          "base_uri": "https://localhost:8080/"
        },
        "id": "V_V4bmkt7kTM",
        "outputId": "ef99963c-f165-4430-b356-00a8cc6a9d40"
      },
      "source": [
        "print(df1)"
      ],
      "execution_count": 34,
      "outputs": [
        {
          "output_type": "stream",
          "text": [
            "[[0.62418301]\n",
            " [0.62214052]\n",
            " [0.62622549]\n",
            " ...\n",
            " [0.1621732 ]\n",
            " [0.16319444]\n",
            " [0.16584967]]\n"
          ],
          "name": "stdout"
        }
      ]
    },
    {
      "cell_type": "code",
      "metadata": {
        "id": "OWK-1dqB7nlE"
      },
      "source": [
        "training_size=int(len(df1)*0.65)\n",
        "test_size=len(df1)-training_size\n",
        "train_data,test_data=df1[0:training_size,:],df1[training_size:len(df1),:1]"
      ],
      "execution_count": 35,
      "outputs": []
    },
    {
      "cell_type": "code",
      "metadata": {
        "colab": {
          "base_uri": "https://localhost:8080/"
        },
        "id": "IozrvLcu7ubP",
        "outputId": "e4855c73-2edb-4b7f-fb23-66c79227dc87"
      },
      "source": [
        "training_size,test_size"
      ],
      "execution_count": 36,
      "outputs": [
        {
          "output_type": "execute_result",
          "data": {
            "text/plain": [
              "(1322, 713)"
            ]
          },
          "metadata": {},
          "execution_count": 36
        }
      ]
    },
    {
      "cell_type": "code",
      "metadata": {
        "colab": {
          "base_uri": "https://localhost:8080/"
        },
        "id": "vHvHmCvM7ydh",
        "outputId": "ec97d0e1-f283-4401-8699-31c13ebcca7a"
      },
      "source": [
        "train_data"
      ],
      "execution_count": 37,
      "outputs": [
        {
          "output_type": "execute_result",
          "data": {
            "text/plain": [
              "array([[0.62418301],\n",
              "       [0.62214052],\n",
              "       [0.62622549],\n",
              "       ...,\n",
              "       [0.25347222],\n",
              "       [0.26041667],\n",
              "       [0.2563317 ]])"
            ]
          },
          "metadata": {},
          "execution_count": 37
        }
      ]
    },
    {
      "cell_type": "code",
      "metadata": {
        "id": "UT5X6fPp75Re"
      },
      "source": [
        "import numpy\n",
        "# convert an array of values into a dataset matrix\n",
        "def create_dataset(dataset, time_step=1):\n",
        "\tdataX, dataY = [], []\n",
        "\tfor i in range(len(dataset)-time_step-1):\n",
        "\t\ta = dataset[i:(i+time_step), 0]   ###i=0, 0,1,2,3-----99   100 \n",
        "\t\tdataX.append(a)\n",
        "\t\tdataY.append(dataset[i + time_step, 0])\n",
        "\treturn numpy.array(dataX), numpy.array(dataY)"
      ],
      "execution_count": 38,
      "outputs": []
    },
    {
      "cell_type": "code",
      "metadata": {
        "id": "T4ZhCBeM7_2y"
      },
      "source": [
        "# reshape into X=t,t+1,t+2,t+3 and Y=t+4\n",
        "time_step = 100\n",
        "X_train, y_train = create_dataset(train_data, time_step)\n",
        "X_test, ytest = create_dataset(test_data, time_step)"
      ],
      "execution_count": 39,
      "outputs": []
    },
    {
      "cell_type": "code",
      "metadata": {
        "colab": {
          "base_uri": "https://localhost:8080/"
        },
        "id": "3gvgA9pa8Di9",
        "outputId": "670e7f01-774a-421a-836a-f94c4f7d9dbf"
      },
      "source": [
        "print(X_train.shape), print(y_train.shape)"
      ],
      "execution_count": 40,
      "outputs": [
        {
          "output_type": "stream",
          "text": [
            "(1221, 100)\n",
            "(1221,)\n"
          ],
          "name": "stdout"
        },
        {
          "output_type": "execute_result",
          "data": {
            "text/plain": [
              "(None, None)"
            ]
          },
          "metadata": {},
          "execution_count": 40
        }
      ]
    },
    {
      "cell_type": "code",
      "metadata": {
        "colab": {
          "base_uri": "https://localhost:8080/"
        },
        "id": "M9CVgMI28KRi",
        "outputId": "b0cc48f3-df0c-4d31-8544-bea55accbba2"
      },
      "source": [
        "print(X_test.shape), print(ytest.shape)"
      ],
      "execution_count": 41,
      "outputs": [
        {
          "output_type": "stream",
          "text": [
            "(612, 100)\n",
            "(612,)\n"
          ],
          "name": "stdout"
        },
        {
          "output_type": "execute_result",
          "data": {
            "text/plain": [
              "(None, None)"
            ]
          },
          "metadata": {},
          "execution_count": 41
        }
      ]
    },
    {
      "cell_type": "code",
      "metadata": {
        "id": "Ro0ZUJEg8PLK"
      },
      "source": [
        "# reshape input to be [samples, time steps, features] which is required for LSTM\n",
        "X_train =X_train.reshape(X_train.shape[0],X_train.shape[1] , 1)\n",
        "X_test = X_test.reshape(X_test.shape[0],X_test.shape[1] , 1)"
      ],
      "execution_count": 42,
      "outputs": []
    },
    {
      "cell_type": "code",
      "metadata": {
        "id": "IIx07Ump8REI"
      },
      "source": [
        "### Create the Stacked LSTM model\n",
        "from tensorflow.keras.models import Sequential\n",
        "from tensorflow.keras.layers import Dense\n",
        "from tensorflow.keras.layers import LSTM"
      ],
      "execution_count": 43,
      "outputs": []
    },
    {
      "cell_type": "code",
      "metadata": {
        "id": "5ex8Zuv58Vfv"
      },
      "source": [
        "model=Sequential()\n",
        "model.add(LSTM(50,return_sequences=True,input_shape=(100,1)))\n",
        "model.add(LSTM(50,return_sequences=True))\n",
        "model.add(LSTM(50))\n",
        "model.add(Dense(1))\n",
        "model.compile(loss='mean_squared_error',optimizer='adam')"
      ],
      "execution_count": 44,
      "outputs": []
    },
    {
      "cell_type": "code",
      "metadata": {
        "colab": {
          "base_uri": "https://localhost:8080/"
        },
        "id": "Ykdr9Gft8aAP",
        "outputId": "601203fd-6c44-41fd-9e24-1d4963a116f4"
      },
      "source": [
        "model.summary()"
      ],
      "execution_count": 45,
      "outputs": [
        {
          "output_type": "stream",
          "text": [
            "Model: \"sequential\"\n",
            "_________________________________________________________________\n",
            "Layer (type)                 Output Shape              Param #   \n",
            "=================================================================\n",
            "lstm (LSTM)                  (None, 100, 50)           10400     \n",
            "_________________________________________________________________\n",
            "lstm_1 (LSTM)                (None, 100, 50)           20200     \n",
            "_________________________________________________________________\n",
            "lstm_2 (LSTM)                (None, 50)                20200     \n",
            "_________________________________________________________________\n",
            "dense (Dense)                (None, 1)                 51        \n",
            "=================================================================\n",
            "Total params: 50,851\n",
            "Trainable params: 50,851\n",
            "Non-trainable params: 0\n",
            "_________________________________________________________________\n"
          ],
          "name": "stdout"
        }
      ]
    },
    {
      "cell_type": "code",
      "metadata": {
        "colab": {
          "base_uri": "https://localhost:8080/"
        },
        "id": "ggBB8ksb8q3p",
        "outputId": "cc8efc66-adae-4a9c-b536-f88549144353"
      },
      "source": [
        "model.fit(X_train,y_train,validation_data=(X_test,ytest),epochs=100,batch_size=64,verbose=1)"
      ],
      "execution_count": 47,
      "outputs": [
        {
          "output_type": "stream",
          "text": [
            "Epoch 1/100\n",
            "20/20 [==============================] - 10s 250ms/step - loss: 0.0203 - val_loss: 0.0062\n",
            "Epoch 2/100\n",
            "20/20 [==============================] - 4s 190ms/step - loss: 0.0031 - val_loss: 8.5491e-04\n",
            "Epoch 3/100\n",
            "20/20 [==============================] - 4s 188ms/step - loss: 0.0020 - val_loss: 9.4936e-04\n",
            "Epoch 4/100\n",
            "20/20 [==============================] - 4s 193ms/step - loss: 0.0017 - val_loss: 0.0012\n",
            "Epoch 5/100\n",
            "20/20 [==============================] - 4s 192ms/step - loss: 0.0016 - val_loss: 8.8274e-04\n",
            "Epoch 6/100\n",
            "20/20 [==============================] - 4s 190ms/step - loss: 0.0015 - val_loss: 8.3197e-04\n",
            "Epoch 7/100\n",
            "20/20 [==============================] - 4s 190ms/step - loss: 0.0015 - val_loss: 0.0011\n",
            "Epoch 8/100\n",
            "20/20 [==============================] - 4s 190ms/step - loss: 0.0014 - val_loss: 8.3029e-04\n",
            "Epoch 9/100\n",
            "20/20 [==============================] - 4s 193ms/step - loss: 0.0013 - val_loss: 8.3939e-04\n",
            "Epoch 10/100\n",
            "20/20 [==============================] - 4s 191ms/step - loss: 0.0012 - val_loss: 7.1182e-04\n",
            "Epoch 11/100\n",
            "20/20 [==============================] - 4s 190ms/step - loss: 0.0012 - val_loss: 0.0013\n",
            "Epoch 12/100\n",
            "20/20 [==============================] - 4s 191ms/step - loss: 0.0011 - val_loss: 8.4206e-04\n",
            "Epoch 13/100\n",
            "20/20 [==============================] - 4s 190ms/step - loss: 0.0011 - val_loss: 6.9307e-04\n",
            "Epoch 14/100\n",
            "20/20 [==============================] - 4s 191ms/step - loss: 0.0011 - val_loss: 8.2052e-04\n",
            "Epoch 15/100\n",
            "20/20 [==============================] - 4s 198ms/step - loss: 9.9134e-04 - val_loss: 7.4835e-04\n",
            "Epoch 16/100\n",
            "20/20 [==============================] - 4s 192ms/step - loss: 9.3901e-04 - val_loss: 7.6304e-04\n",
            "Epoch 17/100\n",
            "20/20 [==============================] - 4s 201ms/step - loss: 9.0565e-04 - val_loss: 8.9357e-04\n",
            "Epoch 18/100\n",
            "20/20 [==============================] - 4s 198ms/step - loss: 9.9756e-04 - val_loss: 7.3831e-04\n",
            "Epoch 19/100\n",
            "20/20 [==============================] - 4s 198ms/step - loss: 9.1458e-04 - val_loss: 0.0011\n",
            "Epoch 20/100\n",
            "20/20 [==============================] - 4s 193ms/step - loss: 0.0010 - val_loss: 6.7561e-04\n",
            "Epoch 21/100\n",
            "20/20 [==============================] - 4s 193ms/step - loss: 0.0010 - val_loss: 7.9229e-04\n",
            "Epoch 22/100\n",
            "20/20 [==============================] - 4s 194ms/step - loss: 9.9792e-04 - val_loss: 0.0010\n",
            "Epoch 23/100\n",
            "20/20 [==============================] - 4s 194ms/step - loss: 8.5637e-04 - val_loss: 0.0011\n",
            "Epoch 24/100\n",
            "20/20 [==============================] - 4s 194ms/step - loss: 7.9787e-04 - val_loss: 7.1693e-04\n",
            "Epoch 25/100\n",
            "20/20 [==============================] - 4s 199ms/step - loss: 7.3213e-04 - val_loss: 6.2641e-04\n",
            "Epoch 26/100\n",
            "20/20 [==============================] - 4s 194ms/step - loss: 7.3725e-04 - val_loss: 7.9483e-04\n",
            "Epoch 27/100\n",
            "20/20 [==============================] - 4s 192ms/step - loss: 6.9913e-04 - val_loss: 8.4748e-04\n",
            "Epoch 28/100\n",
            "20/20 [==============================] - 4s 193ms/step - loss: 7.1379e-04 - val_loss: 6.5922e-04\n",
            "Epoch 29/100\n",
            "20/20 [==============================] - 4s 194ms/step - loss: 7.6239e-04 - val_loss: 8.6542e-04\n",
            "Epoch 30/100\n",
            "20/20 [==============================] - 4s 195ms/step - loss: 7.6813e-04 - val_loss: 6.6861e-04\n",
            "Epoch 31/100\n",
            "20/20 [==============================] - 4s 193ms/step - loss: 6.9943e-04 - val_loss: 7.3517e-04\n",
            "Epoch 32/100\n",
            "20/20 [==============================] - 4s 193ms/step - loss: 6.3831e-04 - val_loss: 6.8457e-04\n",
            "Epoch 33/100\n",
            "20/20 [==============================] - 4s 190ms/step - loss: 6.1815e-04 - val_loss: 6.6899e-04\n",
            "Epoch 34/100\n",
            "20/20 [==============================] - 4s 193ms/step - loss: 6.2629e-04 - val_loss: 6.1333e-04\n",
            "Epoch 35/100\n",
            "20/20 [==============================] - 4s 198ms/step - loss: 6.3487e-04 - val_loss: 6.9714e-04\n",
            "Epoch 36/100\n",
            "20/20 [==============================] - 4s 193ms/step - loss: 5.9753e-04 - val_loss: 6.1010e-04\n",
            "Epoch 37/100\n",
            "20/20 [==============================] - 4s 190ms/step - loss: 5.9965e-04 - val_loss: 5.1187e-04\n",
            "Epoch 38/100\n",
            "20/20 [==============================] - 4s 198ms/step - loss: 6.5285e-04 - val_loss: 7.3136e-04\n",
            "Epoch 39/100\n",
            "20/20 [==============================] - 4s 191ms/step - loss: 6.1409e-04 - val_loss: 5.2931e-04\n",
            "Epoch 40/100\n",
            "20/20 [==============================] - 4s 194ms/step - loss: 6.4924e-04 - val_loss: 8.4527e-04\n",
            "Epoch 41/100\n",
            "20/20 [==============================] - 4s 192ms/step - loss: 5.8132e-04 - val_loss: 5.0510e-04\n",
            "Epoch 42/100\n",
            "20/20 [==============================] - 4s 197ms/step - loss: 5.7790e-04 - val_loss: 5.5821e-04\n",
            "Epoch 43/100\n",
            "20/20 [==============================] - 4s 193ms/step - loss: 5.8354e-04 - val_loss: 7.9231e-04\n",
            "Epoch 44/100\n",
            "20/20 [==============================] - 4s 191ms/step - loss: 5.8396e-04 - val_loss: 7.7365e-04\n",
            "Epoch 45/100\n",
            "20/20 [==============================] - 4s 201ms/step - loss: 7.0571e-04 - val_loss: 8.7576e-04\n",
            "Epoch 46/100\n",
            "20/20 [==============================] - 4s 192ms/step - loss: 5.2180e-04 - val_loss: 6.4441e-04\n",
            "Epoch 47/100\n",
            "20/20 [==============================] - 4s 193ms/step - loss: 5.2313e-04 - val_loss: 5.5222e-04\n",
            "Epoch 48/100\n",
            "20/20 [==============================] - 4s 199ms/step - loss: 5.4216e-04 - val_loss: 4.6107e-04\n",
            "Epoch 49/100\n",
            "20/20 [==============================] - 4s 192ms/step - loss: 6.4633e-04 - val_loss: 6.4987e-04\n",
            "Epoch 50/100\n",
            "20/20 [==============================] - 4s 193ms/step - loss: 5.7842e-04 - val_loss: 6.6031e-04\n",
            "Epoch 51/100\n",
            "20/20 [==============================] - 4s 195ms/step - loss: 4.8901e-04 - val_loss: 5.0502e-04\n",
            "Epoch 52/100\n",
            "20/20 [==============================] - 4s 197ms/step - loss: 4.7539e-04 - val_loss: 6.4773e-04\n",
            "Epoch 53/100\n",
            "20/20 [==============================] - 4s 194ms/step - loss: 5.0159e-04 - val_loss: 5.2924e-04\n",
            "Epoch 54/100\n",
            "20/20 [==============================] - 4s 196ms/step - loss: 4.6324e-04 - val_loss: 4.3126e-04\n",
            "Epoch 55/100\n",
            "20/20 [==============================] - 4s 194ms/step - loss: 4.2824e-04 - val_loss: 4.4085e-04\n",
            "Epoch 56/100\n",
            "20/20 [==============================] - 4s 196ms/step - loss: 4.4448e-04 - val_loss: 4.0590e-04\n",
            "Epoch 57/100\n",
            "20/20 [==============================] - 4s 194ms/step - loss: 5.4187e-04 - val_loss: 4.4793e-04\n",
            "Epoch 58/100\n",
            "20/20 [==============================] - 4s 197ms/step - loss: 5.1129e-04 - val_loss: 5.0401e-04\n",
            "Epoch 59/100\n",
            "20/20 [==============================] - 4s 198ms/step - loss: 4.2950e-04 - val_loss: 3.9489e-04\n",
            "Epoch 60/100\n",
            "20/20 [==============================] - 4s 194ms/step - loss: 5.5282e-04 - val_loss: 4.9566e-04\n",
            "Epoch 61/100\n",
            "20/20 [==============================] - 4s 198ms/step - loss: 4.3077e-04 - val_loss: 3.5349e-04\n",
            "Epoch 62/100\n",
            "20/20 [==============================] - 4s 196ms/step - loss: 4.9124e-04 - val_loss: 6.9788e-04\n",
            "Epoch 63/100\n",
            "20/20 [==============================] - 4s 197ms/step - loss: 4.4347e-04 - val_loss: 4.1294e-04\n",
            "Epoch 64/100\n",
            "20/20 [==============================] - 4s 199ms/step - loss: 3.8198e-04 - val_loss: 4.4547e-04\n",
            "Epoch 65/100\n",
            "20/20 [==============================] - 4s 200ms/step - loss: 3.6146e-04 - val_loss: 4.2173e-04\n",
            "Epoch 66/100\n",
            "20/20 [==============================] - 4s 198ms/step - loss: 3.7324e-04 - val_loss: 3.1723e-04\n",
            "Epoch 67/100\n",
            "20/20 [==============================] - 4s 196ms/step - loss: 4.9762e-04 - val_loss: 3.5081e-04\n",
            "Epoch 68/100\n",
            "20/20 [==============================] - 4s 195ms/step - loss: 3.4990e-04 - val_loss: 2.8751e-04\n",
            "Epoch 69/100\n",
            "20/20 [==============================] - 4s 195ms/step - loss: 3.4431e-04 - val_loss: 4.4210e-04\n",
            "Epoch 70/100\n",
            "20/20 [==============================] - 4s 194ms/step - loss: 3.4775e-04 - val_loss: 3.0665e-04\n",
            "Epoch 71/100\n",
            "20/20 [==============================] - 4s 197ms/step - loss: 4.2003e-04 - val_loss: 4.4603e-04\n",
            "Epoch 72/100\n",
            "20/20 [==============================] - 4s 197ms/step - loss: 3.6605e-04 - val_loss: 2.6954e-04\n",
            "Epoch 73/100\n",
            "20/20 [==============================] - 4s 198ms/step - loss: 3.5246e-04 - val_loss: 2.6617e-04\n",
            "Epoch 74/100\n",
            "20/20 [==============================] - 4s 199ms/step - loss: 3.9912e-04 - val_loss: 3.0217e-04\n",
            "Epoch 75/100\n",
            "20/20 [==============================] - 4s 197ms/step - loss: 3.5351e-04 - val_loss: 4.2113e-04\n",
            "Epoch 76/100\n",
            "20/20 [==============================] - 4s 195ms/step - loss: 6.0641e-04 - val_loss: 3.2597e-04\n",
            "Epoch 77/100\n",
            "20/20 [==============================] - 4s 204ms/step - loss: 3.7245e-04 - val_loss: 4.6356e-04\n",
            "Epoch 78/100\n",
            "20/20 [==============================] - 4s 199ms/step - loss: 3.3577e-04 - val_loss: 2.8424e-04\n",
            "Epoch 79/100\n",
            "20/20 [==============================] - 4s 199ms/step - loss: 3.4551e-04 - val_loss: 2.8527e-04\n",
            "Epoch 80/100\n",
            "20/20 [==============================] - 4s 197ms/step - loss: 3.1520e-04 - val_loss: 3.2356e-04\n",
            "Epoch 81/100\n",
            "20/20 [==============================] - 4s 197ms/step - loss: 3.0298e-04 - val_loss: 3.0946e-04\n",
            "Epoch 82/100\n",
            "20/20 [==============================] - 4s 199ms/step - loss: 3.0626e-04 - val_loss: 2.8521e-04\n",
            "Epoch 83/100\n",
            "20/20 [==============================] - 4s 195ms/step - loss: 3.1618e-04 - val_loss: 4.9246e-04\n",
            "Epoch 84/100\n",
            "20/20 [==============================] - 4s 197ms/step - loss: 3.4589e-04 - val_loss: 3.2951e-04\n",
            "Epoch 85/100\n",
            "20/20 [==============================] - 4s 199ms/step - loss: 2.9841e-04 - val_loss: 3.4174e-04\n",
            "Epoch 86/100\n",
            "20/20 [==============================] - 4s 198ms/step - loss: 3.1167e-04 - val_loss: 2.2042e-04\n",
            "Epoch 87/100\n",
            "20/20 [==============================] - 4s 198ms/step - loss: 2.7290e-04 - val_loss: 2.3354e-04\n",
            "Epoch 88/100\n",
            "20/20 [==============================] - 4s 197ms/step - loss: 2.8805e-04 - val_loss: 2.3561e-04\n",
            "Epoch 89/100\n",
            "20/20 [==============================] - 4s 197ms/step - loss: 2.4766e-04 - val_loss: 2.8940e-04\n",
            "Epoch 90/100\n",
            "20/20 [==============================] - 4s 196ms/step - loss: 2.6462e-04 - val_loss: 2.3396e-04\n",
            "Epoch 91/100\n",
            "20/20 [==============================] - 4s 197ms/step - loss: 2.7456e-04 - val_loss: 2.1857e-04\n",
            "Epoch 92/100\n",
            "20/20 [==============================] - 4s 197ms/step - loss: 2.5258e-04 - val_loss: 2.1374e-04\n",
            "Epoch 93/100\n",
            "20/20 [==============================] - 4s 197ms/step - loss: 2.6406e-04 - val_loss: 3.3613e-04\n",
            "Epoch 94/100\n",
            "20/20 [==============================] - 4s 195ms/step - loss: 2.6255e-04 - val_loss: 2.5054e-04\n",
            "Epoch 95/100\n",
            "20/20 [==============================] - 4s 197ms/step - loss: 2.3827e-04 - val_loss: 2.3278e-04\n",
            "Epoch 96/100\n",
            "20/20 [==============================] - 4s 196ms/step - loss: 2.5803e-04 - val_loss: 2.1865e-04\n",
            "Epoch 97/100\n",
            "20/20 [==============================] - 4s 197ms/step - loss: 2.5039e-04 - val_loss: 2.3357e-04\n",
            "Epoch 98/100\n",
            "20/20 [==============================] - 4s 194ms/step - loss: 2.5669e-04 - val_loss: 2.3229e-04\n",
            "Epoch 99/100\n",
            "20/20 [==============================] - 4s 199ms/step - loss: 2.4681e-04 - val_loss: 2.0847e-04\n",
            "Epoch 100/100\n",
            "20/20 [==============================] - 4s 198ms/step - loss: 2.6563e-04 - val_loss: 2.4360e-04\n"
          ],
          "name": "stdout"
        },
        {
          "output_type": "execute_result",
          "data": {
            "text/plain": [
              "<keras.callbacks.History at 0x7f9e3fa94f50>"
            ]
          },
          "metadata": {},
          "execution_count": 47
        }
      ]
    },
    {
      "cell_type": "code",
      "metadata": {
        "id": "iiyKVrzL85Cs"
      },
      "source": [
        "import tensorflow as tf"
      ],
      "execution_count": 48,
      "outputs": []
    },
    {
      "cell_type": "code",
      "metadata": {
        "colab": {
          "base_uri": "https://localhost:8080/",
          "height": 35
        },
        "id": "yxjUjEGZ88Yt",
        "outputId": "3d221832-faf7-4c45-96f0-9fe56cb882d4"
      },
      "source": [
        "tf.__version__"
      ],
      "execution_count": 49,
      "outputs": [
        {
          "output_type": "execute_result",
          "data": {
            "application/vnd.google.colaboratory.intrinsic+json": {
              "type": "string"
            },
            "text/plain": [
              "'2.6.0'"
            ]
          },
          "metadata": {},
          "execution_count": 49
        }
      ]
    },
    {
      "cell_type": "code",
      "metadata": {
        "id": "DeZkIdd28_q3"
      },
      "source": [
        "### Lets Do the prediction and check performance metrics\n",
        "train_predict=model.predict(X_train)\n",
        "test_predict=model.predict(X_test)"
      ],
      "execution_count": 50,
      "outputs": []
    },
    {
      "cell_type": "code",
      "metadata": {
        "id": "KufPDnH29FE4"
      },
      "source": [
        "##Transformback to original form\n",
        "train_predict=scaler.inverse_transform(train_predict)\n",
        "test_predict=scaler.inverse_transform(test_predict)"
      ],
      "execution_count": 51,
      "outputs": []
    },
    {
      "cell_type": "code",
      "metadata": {
        "colab": {
          "base_uri": "https://localhost:8080/"
        },
        "id": "oiIc_Un99LVZ",
        "outputId": "0d933d52-9f43-4ffd-be1f-e1ccaf9e1f1a"
      },
      "source": [
        "### Calculate RMSE performance metrics\n",
        "import math\n",
        "from sklearn.metrics import mean_squared_error\n",
        "math.sqrt(mean_squared_error(y_train,train_predict))"
      ],
      "execution_count": 52,
      "outputs": [
        {
          "output_type": "execute_result",
          "data": {
            "text/plain": [
              "160.50882905173754"
            ]
          },
          "metadata": {},
          "execution_count": 52
        }
      ]
    },
    {
      "cell_type": "code",
      "metadata": {
        "colab": {
          "base_uri": "https://localhost:8080/"
        },
        "id": "LGLQ0VdV9TqF",
        "outputId": "ae3d2582-e41d-4042-f8e1-4333612cf9f7"
      },
      "source": [
        "### Test Data RMSE\n",
        "math.sqrt(mean_squared_error(ytest,test_predict))"
      ],
      "execution_count": 53,
      "outputs": [
        {
          "output_type": "execute_result",
          "data": {
            "text/plain": [
              "113.79742502672987"
            ]
          },
          "metadata": {},
          "execution_count": 53
        }
      ]
    },
    {
      "cell_type": "markdown",
      "metadata": {
        "id": "LN_PZl3_DEui"
      },
      "source": [
        "##Prediction\n",
        "Predict both the X_train and the X_test, now let’s scaler inverse transform because I want to see the root mean square performance.\n",
        "\n",
        "Here the time step is 100, Whatever the values in train predict and test predict. I got I am just plotting it don’t forget we have to inverse the scaler transform.\n",
        "\n",
        "\n",
        "-> Green indicates the Predicted Data\n",
        " \n",
        " ->Blue indicates the Complete Data\n",
        "\n",
        "\n",
        "->Orange indicates the Train Data"
      ]
    },
    {
      "cell_type": "markdown",
      "metadata": {
        "id": "vRRzKO-1D2CL"
      },
      "source": [
        ""
      ]
    },
    {
      "cell_type": "code",
      "metadata": {
        "colab": {
          "base_uri": "https://localhost:8080/",
          "height": 265
        },
        "id": "5rRgJKr19bRU",
        "outputId": "9a79c126-f0a6-44b3-ec90-556645588f83"
      },
      "source": [
        "### Plotting \n",
        "# shift train predictions for plotting\n",
        "look_back=100\n",
        "trainPredictPlot = numpy.empty_like(df1)\n",
        "trainPredictPlot[:, :] = np.nan\n",
        "trainPredictPlot[look_back:len(train_predict)+look_back, :] = train_predict\n",
        "# shift test predictions for plotting\n",
        "testPredictPlot = numpy.empty_like(df1)\n",
        "testPredictPlot[:, :] = numpy.nan\n",
        "testPredictPlot[len(train_predict)+(look_back*2)+1:len(df1)-1, :] = test_predict\n",
        "# plot baseline and predictions\n",
        "plt.plot(scaler.inverse_transform(df1))\n",
        "plt.plot(trainPredictPlot)\n",
        "plt.plot(testPredictPlot)\n",
        "plt.show()"
      ],
      "execution_count": 54,
      "outputs": [
        {
          "output_type": "display_data",
          "data": {
            "image/png": "[encoded data removed]",
            "text/plain": [
              "<Figure size 432x288 with 1 Axes>"
            ]
          },
          "metadata": {
            "needs_background": "light"
          }
        }
      ]
    },
    {
      "cell_type": "code",
      "metadata": {
        "colab": {
          "base_uri": "https://localhost:8080/"
        },
        "id": "JDiV1YVC9ePy",
        "outputId": "9b1e816d-1306-4a13-e0fb-0aa298362aaa"
      },
      "source": [
        "len(test_data) , X_test.shape"
      ],
      "execution_count": 93,
      "outputs": [
        {
          "output_type": "execute_result",
          "data": {
            "text/plain": [
              "(713, (612, 100, 1))"
            ]
          },
          "metadata": {},
          "execution_count": 93
        }
      ]
    },
    {
      "cell_type": "code",
      "metadata": {
        "colab": {
          "base_uri": "https://localhost:8080/"
        },
        "id": "JX6AAc9g9lSx",
        "outputId": "b3dbc00b-ddb9-4cc3-ced6-221a609b6242"
      },
      "source": [
        "x_input=test_data[341:].reshape(1,-1)\n",
        "x_input.shape"
      ],
      "execution_count": 56,
      "outputs": [
        {
          "output_type": "execute_result",
          "data": {
            "text/plain": [
              "(1, 372)"
            ]
          },
          "metadata": {},
          "execution_count": 56
        }
      ]
    },
    {
      "cell_type": "code",
      "metadata": {
        "id": "ghW0WzX491DL"
      },
      "source": [
        "temp_input=list(x_input)\n",
        "temp_input=temp_input[0].tolist()"
      ],
      "execution_count": 58,
      "outputs": []
    },
    {
      "cell_type": "code",
      "metadata": {
        "colab": {
          "base_uri": "https://localhost:8080/"
        },
        "id": "ZJ76NXJl99Br",
        "outputId": "217952ed-dc41-46ae-c146-3b3a49836ca7"
      },
      "source": [
        "temp_input"
      ],
      "execution_count": 59,
      "outputs": [
        {
          "output_type": "execute_result",
          "data": {
            "text/plain": [
              "[0.048815359477124176,\n",
              " 0.048815359477124176,\n",
              " 0.05310457516339867,\n",
              " 0.049632352941176405,\n",
              " 0.05065359477124176,\n",
              " 0.05126633986928103,\n",
              " 0.049632352941176405,\n",
              " 0.05902777777777779,\n",
              " 0.055555555555555525,\n",
              " 0.040849673202614345,\n",
              " 0.037377450980392135,\n",
              " 0.037377450980392135,\n",
              " 0.026552287581699308,\n",
              " 0.02879901960784309,\n",
              " 0.03165849673202614,\n",
              " 0.03165849673202614,\n",
              " 0.036356209150326724,\n",
              " 0.022058823529411742,\n",
              " 0.016748366013071836,\n",
              " 0.014501633986928053,\n",
              " 0.022263071895424813,\n",
              " 0.03615196078431371,\n",
              " 0.02675653594771238,\n",
              " 0.03206699346405223,\n",
              " 0.02696078431372545,\n",
              " 0.035743464052287566,\n",
              " 0.03594771241830064,\n",
              " 0.0404411764705882,\n",
              " 0.039215686274509776,\n",
              " 0.044117647058823484,\n",
              " 0.029820261437908446,\n",
              " 0.012254901960784326,\n",
              " 0.012867647058823484,\n",
              " 0.011437908496731986,\n",
              " 0.0024509803921567985,\n",
              " 0.005923202614379064,\n",
              " 0.0,\n",
              " 0.007148692810457491,\n",
              " 0.0042892156862744946,\n",
              " 0.006740196078431349,\n",
              " 0.006331699346405206,\n",
              " 0.011233660130718914,\n",
              " 0.019607843137254888,\n",
              " 0.02757352941176472,\n",
              " 0.030024509803921517,\n",
              " 0.03349673202614378,\n",
              " 0.04003267973856206,\n",
              " 0.040849673202614345,\n",
              " 0.03982843137254899,\n",
              " 0.041666666666666685,\n",
              " 0.0437091503267974,\n",
              " 0.047589869281045694,\n",
              " 0.03594771241830064,\n",
              " 0.028390522875817004,\n",
              " 0.024101307189542454,\n",
              " 0.017156862745098034,\n",
              " 0.015318627450980393,\n",
              " 0.017565359477124176,\n",
              " 0.02696078431372545,\n",
              " 0.02696078431372545,\n",
              " 0.03819444444444442,\n",
              " 0.028390522875817004,\n",
              " 0.02369281045751631,\n",
              " 0.029207516339869233,\n",
              " 0.02328431372549017,\n",
              " 0.019199346405228745,\n",
              " 0.006535947712418277,\n",
              " 0.000612745098039158,\n",
              " 0.007965686274509776,\n",
              " 0.012459150326797341,\n",
              " 0.01981209150326796,\n",
              " 0.019403594771241817,\n",
              " 0.022467320261437884,\n",
              " 0.031249999999999944,\n",
              " 0.02348856209150324,\n",
              " 0.024918300653594738,\n",
              " 0.02144607843137253,\n",
              " 0.04840686274509798,\n",
              " 0.04575163398692811,\n",
              " 0.03962418300653592,\n",
              " 0.039215686274509776,\n",
              " 0.047589869281045694,\n",
              " 0.04513888888888884,\n",
              " 0.041666666666666685,\n",
              " 0.04125816993464049,\n",
              " 0.050449346405228745,\n",
              " 0.055555555555555525,\n",
              " 0.05494281045751631,\n",
              " 0.054125816993464027,\n",
              " 0.04350490196078427,\n",
              " 0.04799836601307189,\n",
              " 0.0514705882352941,\n",
              " 0.05065359477124176,\n",
              " 0.03431372549019601,\n",
              " 0.04575163398692811,\n",
              " 0.0418709150326797,\n",
              " 0.04554738562091498,\n",
              " 0.03941993464052285,\n",
              " 0.02716503267973852,\n",
              " 0.031249999999999944,\n",
              " 0.05882352941176466,\n",
              " 0.07148692810457513,\n",
              " 0.08721405228758167,\n",
              " 0.08986928104575165,\n",
              " 0.10498366013071897,\n",
              " 0.08905228758169931,\n",
              " 0.10355392156862742,\n",
              " 0.10375816993464049,\n",
              " 0.12275326797385616,\n",
              " 0.1090686274509804,\n",
              " 0.09660947712418294,\n",
              " 0.10641339869281041,\n",
              " 0.10457516339869277,\n",
              " 0.11049836601307189,\n",
              " 0.11274509803921567,\n",
              " 0.0980392156862745,\n",
              " 0.09987745098039214,\n",
              " 0.08925653594771238,\n",
              " 0.07475490196078427,\n",
              " 0.08169934640522875,\n",
              " 0.08925653594771238,\n",
              " 0.09068627450980393,\n",
              " 0.08129084967320255,\n",
              " 0.08823529411764702,\n",
              " 0.08455882352941174,\n",
              " 0.07945261437908496,\n",
              " 0.08374183006535946,\n",
              " 0.0778186274509804,\n",
              " 0.09824346405228757,\n",
              " 0.090890522875817,\n",
              " 0.09007352941176466,\n",
              " 0.09558823529411759,\n",
              " 0.06862745098039214,\n",
              " 0.06372549019607837,\n",
              " 0.04942810457516339,\n",
              " 0.04799836601307189,\n",
              " 0.04534313725490191,\n",
              " 0.044321895424836555,\n",
              " 0.03941993464052285,\n",
              " 0.03799019607843135,\n",
              " 0.04656862745098034,\n",
              " 0.05085784313725489,\n",
              " 0.07209967320261434,\n",
              " 0.065359477124183,\n",
              " 0.07230392156862747,\n",
              " 0.07802287581699341,\n",
              " 0.07741013071895425,\n",
              " 0.060866013071895375,\n",
              " 0.06413398692810457,\n",
              " 0.07046568627450978,\n",
              " 0.054125816993464027,\n",
              " 0.04983660130718953,\n",
              " 0.05167483660130712,\n",
              " 0.05330882352941174,\n",
              " 0.04350490196078427,\n",
              " 0.026348039215686292,\n",
              " 0.024101307189542454,\n",
              " 0.02961601307189543,\n",
              " 0.019607843137254888,\n",
              " 0.02961601307189543,\n",
              " 0.04575163398692811,\n",
              " 0.05923202614379086,\n",
              " 0.0667892156862745,\n",
              " 0.06229575163398693,\n",
              " 0.06311274509803921,\n",
              " 0.06290849673202609,\n",
              " 0.06658496732026142,\n",
              " 0.07434640522875818,\n",
              " 0.06944444444444442,\n",
              " 0.08088235294117646,\n",
              " 0.07700163398692805,\n",
              " 0.06842320261437906,\n",
              " 0.06781045751633985,\n",
              " 0.06290849673202609,\n",
              " 0.06924019607843135,\n",
              " 0.07557189542483661,\n",
              " 0.0778186274509804,\n",
              " 0.08088235294117646,\n",
              " 0.0884395424836601,\n",
              " 0.09395424836601307,\n",
              " 0.09599673202614378,\n",
              " 0.08660130718954251,\n",
              " 0.09027777777777773,\n",
              " 0.08517156862745096,\n",
              " 0.08374183006535946,\n",
              " 0.07945261437908496,\n",
              " 0.09109477124183002,\n",
              " 0.09129901960784309,\n",
              " 0.08803104575163395,\n",
              " 0.09681372549019607,\n",
              " 0.11417483660130717,\n",
              " 0.10498366013071897,\n",
              " 0.09987745098039214,\n",
              " 0.08537581699346403,\n",
              " 0.08047385620915032,\n",
              " 0.06862745098039214,\n",
              " 0.06576797385620914,\n",
              " 0.061478758169934644,\n",
              " 0.0716911764705882,\n",
              " 0.0702614379084967,\n",
              " 0.07475490196078427,\n",
              " 0.06821895424836599,\n",
              " 0.06924019607843135,\n",
              " 0.07066993464052285,\n",
              " 0.06801470588235292,\n",
              " 0.0667892156862745,\n",
              " 0.07414215686274506,\n",
              " 0.0716911764705882,\n",
              " 0.08639705882352938,\n",
              " 0.08312908496732024,\n",
              " 0.06311274509803921,\n",
              " 0.06290849673202609,\n",
              " 0.05167483660130712,\n",
              " 0.031862745098039214,\n",
              " 0.04003267973856206,\n",
              " 0.03860294117647056,\n",
              " 0.041053921568627416,\n",
              " 0.033905228758169925,\n",
              " 0.031249999999999944,\n",
              " 0.026348039215686292,\n",
              " 0.05861928104575159,\n",
              " 0.06311274509803921,\n",
              " 0.06209150326797386,\n",
              " 0.055351307189542454,\n",
              " 0.08455882352941174,\n",
              " 0.05514705882352938,\n",
              " 0.06045751633986923,\n",
              " 0.055759803921568596,\n",
              " 0.04391339869281047,\n",
              " 0.029207516339869233,\n",
              " 0.028186274509803877,\n",
              " 0.04718137254901961,\n",
              " 0.06045751633986923,\n",
              " 0.05861928104575159,\n",
              " 0.06168300653594766,\n",
              " 0.06699346405228751,\n",
              " 0.07087418300653592,\n",
              " 0.07557189542483661,\n",
              " 0.07700163398692805,\n",
              " 0.10375816993464049,\n",
              " 0.10314542483660127,\n",
              " 0.10334967320261434,\n",
              " 0.10089869281045749,\n",
              " 0.1043709150326797,\n",
              " 0.0980392156862745,\n",
              " 0.09722222222222221,\n",
              " 0.09783496732026142,\n",
              " 0.09579248366013071,\n",
              " 0.09109477124183002,\n",
              " 0.09313725490196079,\n",
              " 0.0855800653594771,\n",
              " 0.0951797385620915,\n",
              " 0.11172385620915032,\n",
              " 0.12275326797385616,\n",
              " 0.12806372549019607,\n",
              " 0.1313316993464052,\n",
              " 0.12479575163398693,\n",
              " 0.11090686274509798,\n",
              " 0.10743464052287577,\n",
              " 0.11621732026143788,\n",
              " 0.1168300653594771,\n",
              " 0.11764705882352938,\n",
              " 0.12888071895424835,\n",
              " 0.1284722222222222,\n",
              " 0.13337418300653592,\n",
              " 0.1423611111111111,\n",
              " 0.1409313725490196,\n",
              " 0.13970588235294118,\n",
              " 0.13827614379084963,\n",
              " 0.13541666666666663,\n",
              " 0.13010620915032678,\n",
              " 0.12254901960784315,\n",
              " 0.12479575163398693,\n",
              " 0.1384803921568627,\n",
              " 0.14011437908496732,\n",
              " 0.1388888888888889,\n",
              " 0.13541666666666663,\n",
              " 0.14011437908496732,\n",
              " 0.13807189542483655,\n",
              " 0.130718954248366,\n",
              " 0.130718954248366,\n",
              " 0.12867647058823528,\n",
              " 0.11846405228758167,\n",
              " 0.14644607843137253,\n",
              " 0.1480800653594771,\n",
              " 0.159109477124183,\n",
              " 0.15992647058823523,\n",
              " 0.1578839869281045,\n",
              " 0.16441993464052285,\n",
              " 0.178921568627451,\n",
              " 0.17933006535947704,\n",
              " 0.19260620915032678,\n",
              " 0.2081290849673203,\n",
              " 0.18974673202614378,\n",
              " 0.18055555555555558,\n",
              " 0.1823937908496731,\n",
              " 0.17708333333333326,\n",
              " 0.17810457516339862,\n",
              " 0.18055555555555558,\n",
              " 0.17810457516339862,\n",
              " 0.17851307189542487,\n",
              " 0.196078431372549,\n",
              " 0.18913398692810457,\n",
              " 0.1895424836601307,\n",
              " 0.19403594771241828,\n",
              " 0.19444444444444442,\n",
              " 0.20200163398692816,\n",
              " 0.19771241830065356,\n",
              " 0.19934640522875813,\n",
              " 0.19873366013071891,\n",
              " 0.19975490196078427,\n",
              " 0.21282679738562094,\n",
              " 0.21568627450980393,\n",
              " 0.2044526143790849,\n",
              " 0.21772875816993464,\n",
              " 0.21098856209150318,\n",
              " 0.21425653594771243,\n",
              " 0.1975081699346406,\n",
              " 0.1881127450980392,\n",
              " 0.17851307189542487,\n",
              " 0.17381535947712412,\n",
              " 0.16033496732026142,\n",
              " 0.16564542483660127,\n",
              " 0.1711601307189542,\n",
              " 0.17422385620915026,\n",
              " 0.1803513071895424,\n",
              " 0.1740196078431372,\n",
              " 0.16278594771241828,\n",
              " 0.1697303921568627,\n",
              " 0.17810457516339862,\n",
              " 0.1703431372549019,\n",
              " 0.16830065359477125,\n",
              " 0.17279411764705876,\n",
              " 0.1754493464052288,\n",
              " 0.18382352941176472,\n",
              " 0.19138071895424835,\n",
              " 0.18913398692810457,\n",
              " 0.1909722222222222,\n",
              " 0.17238562091503273,\n",
              " 0.16830065359477125,\n",
              " 0.16932189542483655,\n",
              " 0.1717728758169934,\n",
              " 0.16156045751633985,\n",
              " 0.14971405228758167,\n",
              " 0.15032679738562088,\n",
              " 0.1519607843137255,\n",
              " 0.1472630718954248,\n",
              " 0.14501633986928103,\n",
              " 0.14603758169934639,\n",
              " 0.12479575163398693,\n",
              " 0.13112745098039214,\n",
              " 0.11397058823529405,\n",
              " 0.11907679738562088,\n",
              " 0.12377450980392157,\n",
              " 0.13562091503267976,\n",
              " 0.12908496732026142,\n",
              " 0.1345996732026144,\n",
              " 0.12806372549019607,\n",
              " 0.13031045751633985,\n",
              " 0.12724673202614373,\n",
              " 0.13521241830065356,\n",
              " 0.1452205882352941,\n",
              " 0.15257352941176466,\n",
              " 0.14848856209150324,\n",
              " 0.14338235294117646,\n",
              " 0.14562908496732024,\n",
              " 0.1523692810457516,\n",
              " 0.15400326797385622,\n",
              " 0.14971405228758167,\n",
              " 0.16217320261437906,\n",
              " 0.16319444444444448,\n",
              " 0.16584967320261434]"
            ]
          },
          "metadata": {},
          "execution_count": 59
        }
      ]
    },
    {
      "cell_type": "code",
      "metadata": {
        "id": "kbRGcP3J-Kwj"
      },
      "source": [
        "day_new=np.arange(1,101)\n",
        "day_pred=np.arange(101,131)"
      ],
      "execution_count": 62,
      "outputs": []
    },
    {
      "cell_type": "code",
      "metadata": {
        "id": "nT8HLZw5-TaM"
      },
      "source": [
        "import matplotlib.pyplot as plt"
      ],
      "execution_count": 63,
      "outputs": []
    },
    {
      "cell_type": "code",
      "metadata": {
        "colab": {
          "base_uri": "https://localhost:8080/"
        },
        "id": "Mb-DIMlh-VV2",
        "outputId": "bd350778-7537-4c85-acb0-067dac269741"
      },
      "source": [
        "len(df1)"
      ],
      "execution_count": 64,
      "outputs": [
        {
          "output_type": "execute_result",
          "data": {
            "text/plain": [
              "2035"
            ]
          },
          "metadata": {},
          "execution_count": 64
        }
      ]
    },
    {
      "cell_type": "code",
      "metadata": {
        "colab": {
          "base_uri": "https://localhost:8080/",
          "height": 283
        },
        "id": "r-JX5MUf-mgJ",
        "outputId": "1d45a938-e19a-499f-a7ec-732fe27cf764"
      },
      "source": [
        "df3=df1.tolist()\n",
        "df3.extend(lst_output)\n",
        "plt.plot(df3[1200:])"
      ],
      "execution_count": 81,
      "outputs": [
        {
          "output_type": "execute_result",
          "data": {
            "text/plain": [
              "[<matplotlib.lines.Line2D at 0x7f9e39dc5a90>]"
            ]
          },
          "metadata": {},
          "execution_count": 81
        },
        {
          "output_type": "display_data",
          "data": {
            "image/png": "[encoded data removed]",
            "text/plain": [
              "<Figure size 432x288 with 1 Axes>"
            ]
          },
          "metadata": {
            "needs_background": "light"
          }
        }
      ]
    },
    {
      "cell_type": "code",
      "metadata": {
        "id": "EIx3HWOU-oY1"
      },
      "source": [
        "df3=scaler.inverse_transform(df3).tolist()"
      ],
      "execution_count": 82,
      "outputs": []
    },
    {
      "cell_type": "code",
      "metadata": {
        "colab": {
          "base_uri": "https://localhost:8080/",
          "height": 283
        },
        "id": "2XXKnPzd-rxb",
        "outputId": "f370d2d6-c957-4ab4-d55b-ffe1090dc1b6"
      },
      "source": [
        "plt.plot(df3)"
      ],
      "execution_count": 83,
      "outputs": [
        {
          "output_type": "execute_result",
          "data": {
            "text/plain": [
              "[<matplotlib.lines.Line2D at 0x7f9e3a915490>]"
            ]
          },
          "metadata": {},
          "execution_count": 83
        },
        {
          "output_type": "display_data",
          "data": {
            "image/png": "[encoded data removed]",
            "text/plain": [
              "<Figure size 432x288 with 1 Axes>"
            ]
          },
          "metadata": {
            "needs_background": "light"
          }
        }
      ]
    }
  ]
}